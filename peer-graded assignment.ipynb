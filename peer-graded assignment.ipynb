{
    "cells": [
        {
            "cell_type": "markdown",
            "metadata": {
                "collapsed": true
            },
            "source": "# My Jupyter Notebook on IBM Watson Studio"
        },
        {
            "cell_type": "markdown",
            "metadata": {},
            "source": "__Koh Boon Ten__\n<br> Unemployed"
        },
        {
            "cell_type": "markdown",
            "metadata": {},
            "source": "_I am interested in data science because I love to gain insights from data_"
        },
        {
            "cell_type": "markdown",
            "metadata": {},
            "source": "### The following code should print Hello World!"
        },
        {
            "cell_type": "code",
            "execution_count": 5,
            "metadata": {},
            "outputs": [
                {
                    "name": "stdout",
                    "output_type": "stream",
                    "text": "Hello World!\n"
                }
            ],
            "source": "print('Hello World!')"
        },
        {
            "cell_type": "markdown",
            "metadata": {},
            "source": "<hr /> A\n<hr /> B\n<hr /> C\n<hr /> D"
        },
        {
            "cell_type": "markdown",
            "metadata": {},
            "source": "* 1\n* 2\n* 3\n* 4"
        },
        {
            "cell_type": "markdown",
            "metadata": {},
            "source": "1. A\n2. B\n3. C\n4. D"
        },
        {
            "cell_type": "markdown",
            "metadata": {},
            "source": "| MARKDOWN  |    LESS    |  PRETTY   |  \n|-----------|------------|-----------|\n| *Still*   | Renders    |**Nicely** |\n|    1      |    2       |  3        | "
        },
        {
            "cell_type": "markdown",
            "metadata": {},
            "source": "[IBM Link](https://www.ibm.com)"
        }
    ],
    "metadata": {
        "kernelspec": {
            "display_name": "Python 3.8",
            "language": "python",
            "name": "python3"
        },
        "language_info": {
            "codemirror_mode": {
                "name": "ipython",
                "version": 3
            },
            "file_extension": ".py",
            "mimetype": "text/x-python",
            "name": "python",
            "nbconvert_exporter": "python",
            "pygments_lexer": "ipython3",
            "version": "3.8.12"
        }
    },
    "nbformat": 4,
    "nbformat_minor": 1
}